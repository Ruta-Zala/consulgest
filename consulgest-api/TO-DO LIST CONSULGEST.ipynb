{
 "cells": [
  {
   "cell_type": "markdown",
   "id": "1c30aa60",
   "metadata": {
    "pycharm": {
     "name": "#%% md\n"
    }
   },
   "source": [
    "## TO-DO LIST"
   ]
  },
  {
   "cell_type": "markdown",
   "id": "a4869607",
   "metadata": {
    "pycharm": {
     "name": "#%% md\n"
    }
   },
   "source": [
    "### INSERIRE FLUSSO AUTENTICAZIONE UTENTI\n",
    "\n",
    "1) INSERIRE FLUSSO AUTENTICAZIONE UTENTI\n",
    "\n",
    "2) API PER L'INSERIMENTO DEGLI UTENTI"
   ]
  },
  {
   "cell_type": "markdown",
   "id": "54f8b6e3",
   "metadata": {
    "pycharm": {
     "name": "#%% md\n"
    }
   },
   "source": [
    "### FLOW CARICAMENTO FLUSSO PRATICHE\n",
    "\n",
    "1) LEGGERE EXCEL O CSV FLUSSO CLIENTE \n",
    "\n",
    "2) CREARE UNA VARIABILE CON LA LISTA DEI NOMI DI COLONNE CHE SERVONO AL MODELLO PER FARE LE VALUTAZIONI, E TIPO DEI DATI AL LORO INTERNO\n",
    "\n",
    "3) LEGGERE LE COLONNE DEL FLUSSO CLIENTE\n",
    "\n",
    "4) CREARE UN DATAFRAME DAL FLUSSO DEL CLIENTE CON UNA COPIA\n",
    "\n",
    "5) CHIEDERE AL CLIENTE QUALE COLONNA CORRISPONDE A QUELLE DA 1-26 CHE STANNO NELLA VARIABILE SPECIFICATA AL N° 2\n",
    "\n",
    "6) SOSTITUIRE GLI HEADER CON QUELLI INDICATI DAL CLIENTE\n",
    "\n",
    "7) FARE UN CHECK DEL TIPO DI DATO PER COLONNE, NEL CASO E' SBAGLIATO, RIPETERE L'OPERAZIONE DELL'INDICAZIONE DELLA COLONNA\n",
    "\n",
    "8) CARICARE IL DF DEL CLIENTE"
   ]
  },
  {
   "cell_type": "markdown",
   "id": "6f407634",
   "metadata": {
    "pycharm": {
     "name": "#%% md\n"
    }
   },
   "source": [
    "### FUNZIONE PRE-PROCESSING DEI DATI\n",
    "\n",
    "1) IDENTIFICARE E SPLITTARE IL DF IN VALORI CATEGORICI, NUMERICI E DATA\n",
    "\n",
    "2) IDENTIFICARE SE LE COLONNE DEL DF SONO BILANCIATE E/O NULLE \n",
    "\n",
    "3) RIEMPIRE I VALORI NULLI CON KNN-IMPUTER, PER I VALORI CATEGORICI SOSTITUIRE NULL CON NESSUNO, PER I VALORI DI DATE, TRAFORMARLI PRIMA IN CACATE(TIMESTAMP) E POI LANCIARE KNN-IMPUTER, PER I NUMERICI LANCIARE KNN IMPUTER\n"
   ]
  },
  {
   "cell_type": "markdown",
   "id": "2e87862d",
   "metadata": {
    "pycharm": {
     "name": "#%% md\n"
    }
   },
   "source": [
    "### INFERENZA E CALCOLO API\n",
    "\n",
    "1) INSERIRE IL DF NEL MODELLO A.I. E FARE L'INFERENZA \n",
    "\n",
    "2) DALL'OUTPUT CALCOLARE TUTTI I PARAMETRI DA INSERIRE NELLE VARIE API"
   ]
  },
  {
   "cell_type": "markdown",
   "id": "c3f54680",
   "metadata": {
    "pycharm": {
     "name": "#%% md\n"
    }
   },
   "source": [
    "### API SUL DF\n",
    "ALLA PROSSIMA PUNTATA"
   ]
  },
  {
   "cell_type": "code",
   "execution_count": null,
   "id": "870537f0",
   "metadata": {
    "pycharm": {
     "name": "#%%\n"
    }
   },
   "outputs": [],
   "source": []
  }
 ],
 "metadata": {
  "kernelspec": {
   "display_name": "Python 3 (ipykernel)",
   "language": "python",
   "name": "python3"
  },
  "language_info": {
   "codemirror_mode": {
    "name": "ipython",
    "version": 3
   },
   "file_extension": ".py",
   "mimetype": "text/x-python",
   "name": "python",
   "nbconvert_exporter": "python",
   "pygments_lexer": "ipython3",
   "version": "3.10.8"
  }
 },
 "nbformat": 4,
 "nbformat_minor": 5
}